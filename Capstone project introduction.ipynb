{
 "cells": [
  {
   "cell_type": "markdown",
   "metadata": {},
   "source": [
    "# Capstone project introduction:"
   ]
  },
  {
   "cell_type": "markdown",
   "metadata": {},
   "source": [
    "## 1) Introduction"
   ]
  },
  {
   "cell_type": "markdown",
   "metadata": {},
   "source": [
    "### The problem that we will solve in this report is how to choose between two cities to build an establishment where it would provide the owner with the minimum number of competitors. In this report, I chose the establishment to be a restaurant. Restaurants offer similar products to customers and are competitors to each other. Using this method, restaurant owners can find the best places to build their restaurant with minimum competition."
   ]
  }
 ],
 "metadata": {
  "kernelspec": {
   "display_name": "Python 3",
   "language": "python",
   "name": "python3"
  },
  "language_info": {
   "name": ""
  }
 },
 "nbformat": 4,
 "nbformat_minor": 2
}
