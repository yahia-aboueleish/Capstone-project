{
 "cells": [
  {
   "cell_type": "markdown",
   "metadata": {},
   "source": [
    "# Capstone project week 1:"
   ]
  },
  {
   "cell_type": "markdown",
   "metadata": {},
   "source": [
    "## 1) Introduction"
   ]
  },
  {
   "cell_type": "markdown",
   "metadata": {},
   "source": [
    "### The problem that we will solve in this report is how to choose between two cities to build an establishment where it would provide the owner with the minimum number of competitors. In this report, I chose the establishment to be a restaurant. Restaurants offer similar products to customers and are competitors to each other. Using this method, restaurant owners can find the best places to build their restaurant with minimum competition."
   ]
  },
  {
   "cell_type": "markdown",
   "metadata": {},
   "source": [
    "## 2) Description of the data"
   ]
  },
  {
   "cell_type": "markdown",
   "metadata": {},
   "source": [
    "### The data is from the Foursquare API website and the data used are the venues at different locations in Toronto and Manhattan. This data will be used to determine which city has less competition for a restaurant and what are the best locations in that city to build the restaurant."
   ]
  }
 ],
 "metadata": {
  "kernelspec": {
   "display_name": "Python 3",
   "language": "python",
   "name": "python3"
  },
  "language_info": {
   "name": ""
  }
 },
 "nbformat": 4,
 "nbformat_minor": 2
}
