{
 "cells": [
  {
   "cell_type": "markdown",
   "metadata": {},
   "source": [
    "# Capstone project final report:"
   ]
  },
  {
   "cell_type": "markdown",
   "metadata": {},
   "source": [
    "## 1) Introduction"
   ]
  },
  {
   "cell_type": "markdown",
   "metadata": {},
   "source": [
    "### The problem that we will solve in this report is how to choose between two cities to build an establishment where it would provide the owner with the minimum number of competitors. In this report, I chose the establishment to be a restaurant. Restaurants offer similar products to customers and are competitors to each other. Using this method, restaurant owners can find the best places to build their restaurant with minimum competition."
   ]
  },
  {
   "cell_type": "markdown",
   "metadata": {},
   "source": [
    "## 2) Description of the data"
   ]
  },
  {
   "cell_type": "markdown",
   "metadata": {},
   "source": [
    "### The data is from the Foursquare API website and the data used are the venues at different locations in Toronto and Manhattan. This data will be used to determine which city has less competition for a restaurant and what are the best locations in that city to build the restaurant."
   ]
  },
  {
   "cell_type": "markdown",
   "metadata": {},
   "source": [
    "## 3) Methodology section"
   ]
  },
  {
   "cell_type": "markdown",
   "metadata": {},
   "source": [
    "### The data from the website are from multiple locations in upper Canada and America. The first step is to filter the data, so the only data that is in our pandas dataframe is from Toronto and Manhattan. Then, maps are created showing the data from Torontto and Manhattan using longitude and latitude coordinates showing the locations of the venues. Then, the most common venues based on category are counted at each location. \n",
    "\n",
    "### I used the K-means clustering method to group the data into clusters representing the most common venues of specific locations of each city. I used K-means clustering because there is a lot of data that need to be grouped with no way of efficiently grouping them except by their similarity as the data is not labeled and after clustering, one map for each city is generated to visualize these clusters.\n",
    "\n",
    "### Then, the clusters are grouped into one dataframe to show the top ten most common venues in each cluster location. The venues that we don't want as being the most common are restaurants so as to minimize the competition for our restaurant owner. Therefore, all observations that have restaurants in the top six most common venues are removed and a new dataframe is produced showing only the observations with the minimum competition of each city."
   ]
  },
  {
   "cell_type": "markdown",
   "metadata": {},
   "source": [
    "## 4) Results section"
   ]
  },
  {
   "cell_type": "markdown",
   "metadata": {},
   "source": [
    "### Toronto had 8 observations with minimum restaurant competition while Manhattan only had 4 observations with the same level of competition. This tells the restaurant owner that he or she has a better chance to build a restaurant with minimum competition in Toronto. Also, there were no observations in East Toronto which tells the owner that East Toronto has a lot of competition with regard to restaurants, therefore he or she would be recommended to build the restaurant in the Downtown, Central or West Toronto."
   ]
  },
  {
   "cell_type": "markdown",
   "metadata": {},
   "source": [
    "## 5) Discussion section"
   ]
  },
  {
   "cell_type": "markdown",
   "metadata": {},
   "source": [
    "### Observations made include that the choice of K when using the K-means method can influence the outcome of the clustering. Also, I noticed that if you try to remove all observations that have restaurants in the top ten most common venues, instead of the top six like I have used above, you will be able to get results that have no competition. However, there is no competition because the location is not suitable to build a restaurant such as the surrounding area of an airport. "
   ]
  },
  {
   "cell_type": "markdown",
   "metadata": {},
   "source": [
    "## 6) Conclusion section"
   ]
  },
  {
   "cell_type": "markdown",
   "metadata": {},
   "source": [
    "### To conclude, using a clustering method to find out the similarities between large amounts of unlabeled data is extremely effective and can produce similarities and patterns between data that we as humans can't see. Using this capstone project as an example, I would recommend using similar methods to find patterns before making any business decisions as it is really effective, precise and gives insights that are extremely valuable."
   ]
  },
  {
   "cell_type": "code",
   "execution_count": null,
   "metadata": {},
   "outputs": [],
   "source": []
  }
 ],
 "metadata": {
  "kernelspec": {
   "display_name": "Python 3",
   "language": "python",
   "name": "python3"
  },
  "language_info": {
   "name": ""
  }
 },
 "nbformat": 4,
 "nbformat_minor": 2
}
